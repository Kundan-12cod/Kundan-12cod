{
 "cells": [
  {
   "cell_type": "code",
   "execution_count": 1,
   "id": "f238642a-5430-44bd-9f2b-93862ad06a60",
   "metadata": {},
   "outputs": [],
   "source": [
    "#2. Write a Python class for a `Car` with attributes for `make`, `model`, and `year`. Include a method to display the car's information.\n",
    "\n"
   ]
  },
  {
   "cell_type": "code",
   "execution_count": 2,
   "id": "937bf1f5-f5f5-41f8-a9ec-5e56f22b819d",
   "metadata": {},
   "outputs": [
    {
     "name": "stdout",
     "output_type": "stream",
     "text": [
      "Car: 2020 Toyota Corolla\n"
     ]
    }
   ],
   "source": [
    "class Car:\n",
    "    def __init__(self, make, model, year):\n",
    "        self.make = make\n",
    "        self.model = model\n",
    "        self.year = year\n",
    "\n",
    "    def display_info(self):\n",
    "        print(f\"Car: {self.year} {self.make} {self.model}\")\n",
    "\n",
    "# Example usage\n",
    "car = Car(\"Toyota\", \"Corolla\", 2020)\n",
    "car.display_info()"
   ]
  },
  {
   "cell_type": "code",
   "execution_count": 3,
   "id": "42611313-73a1-4465-a31a-c3204b6d64bd",
   "metadata": {},
   "outputs": [],
   "source": [
    "#3. Explain the difference between instance methods and class methods. Provide an example of each."
   ]
  },
  {
   "cell_type": "code",
   "execution_count": 4,
   "id": "aa3774e7-1d2b-491d-9b18-4e1f67ae9d5b",
   "metadata": {},
   "outputs": [
    {
     "name": "stdout",
     "output_type": "stream",
     "text": [
      "This is an instance method.\n",
      "This is a class method.\n"
     ]
    }
   ],
   "source": [
    "class MyClass:\n",
    "    def instance_method(self):\n",
    "        print(\"This is an instance method.\")\n",
    "\n",
    "    @classmethod\n",
    "    def class_method(cls):\n",
    "        print(\"This is a class method.\")\n",
    "\n",
    "# Example usage\n",
    "obj = MyClass()\n",
    "obj.instance_method()  # Calls instance method\n",
    "MyClass.class_method()  # Calls class method"
   ]
  },
  {
   "cell_type": "code",
   "execution_count": 5,
   "id": "24dbfe73-4114-415b-978a-129de8e57722",
   "metadata": {},
   "outputs": [],
   "source": [
    "# 4. How does Python implement method overloading? Give an example.\n"
   ]
  },
  {
   "cell_type": "code",
   "execution_count": 6,
   "id": "b6fd66ad-eccf-4813-8704-391beb4c2f98",
   "metadata": {},
   "outputs": [
    {
     "name": "stdout",
     "output_type": "stream",
     "text": [
      "5\n",
      "9\n"
     ]
    }
   ],
   "source": [
    "class Calculator:\n",
    "    def add(self, a, b, c=None):\n",
    "        if c is None:\n",
    "            return a + b\n",
    "        else:\n",
    "            return a + b + c\n",
    "\n",
    "# Example usage\n",
    "calc = Calculator()\n",
    "print(calc.add(2, 3))       \n",
    "print(calc.add(2, 3, 4))  "
   ]
  },
  {
   "cell_type": "code",
   "execution_count": 7,
   "id": "f84f870a-6066-4bcf-b0a7-52af70532831",
   "metadata": {},
   "outputs": [],
   "source": [
    "#6. Describe the five types of inheritance in Python. Provide a simple example of multiple inheritance."
   ]
  },
  {
   "cell_type": "code",
   "execution_count": 8,
   "id": "0ee95422-fe71-4796-9a93-a42b518df466",
   "metadata": {},
   "outputs": [
    {
     "name": "stdout",
     "output_type": "stream",
     "text": [
      "Method A\n",
      "Method B\n"
     ]
    }
   ],
   "source": [
    "# Example of multiple inheritance\n",
    "class A:\n",
    "    def method_a(self):\n",
    "        print(\"Method A\")\n",
    "\n",
    "class B:\n",
    "    def method_b(self):\n",
    "        print(\"Method B\")\n",
    "\n",
    "class C(A, B):\n",
    "    pass\n",
    "\n",
    "# Example usage\n",
    "obj = C()\n",
    "obj.method_a()  # Output: Method A\n",
    "obj.method_b()  # Output: Method B\n"
   ]
  },
  {
   "cell_type": "code",
   "execution_count": 9,
   "id": "2a13c4d2-cd1b-4e68-8b43-8c6862e856c9",
   "metadata": {},
   "outputs": [
    {
     "name": "stdout",
     "output_type": "stream",
     "text": [
      "(<class '__main__.D'>, <class '__main__.B'>, <class '__main__.C'>, <class '__main__.A'>, <class 'object'>)\n"
     ]
    }
   ],
   "source": [
    "# 7. What is the Method Resolution Order (MRO) in Python? How can you retrieve it programmatically?\n",
    "class A:\n",
    "    pass\n",
    "\n",
    "class B(A):\n",
    "    pass\n",
    "\n",
    "class C(A):\n",
    "    pass\n",
    "\n",
    "class D(B, C):\n",
    "    pass\n",
    "\n",
    "print(D.__mro__) \n"
   ]
  },
  {
   "cell_type": "code",
   "execution_count": 10,
   "id": "2dad435d-8152-4b9e-8c64-ae198c8a1a30",
   "metadata": {},
   "outputs": [
    {
     "name": "stdout",
     "output_type": "stream",
     "text": [
      "Circle Area: 78.5\n",
      "Rectangle Area: 24\n"
     ]
    }
   ],
   "source": [
    "# 8. Create an abstract base class `Shape` with an abstract method `area()`. Then create two subclasses `Circle` and `Rectangle` that implement the `area()` method. \n",
    "from abc import ABC, abstractmethod\n",
    "\n",
    "class Shape(ABC):\n",
    "    @abstractmethod\n",
    "    def area(self):\n",
    "        pass\n",
    "\n",
    "class Circle(Shape):\n",
    "    def __init__(self, radius):\n",
    "        self.radius = radius\n",
    "\n",
    "    def area(self):\n",
    "        return 3.14 * self.radius ** 2\n",
    "\n",
    "class Rectangle(Shape):\n",
    "    def __init__(self, length, width):\n",
    "        self.length = length\n",
    "        self.width = width\n",
    "\n",
    "    def area(self):\n",
    "        return self.length * self.width\n",
    "\n",
    "# Example usage\n",
    "circle = Circle(5)\n",
    "rectangle = Rectangle(4, 6)\n",
    "print(\"Circle Area:\", circle.area())       \n",
    "print(\"Rectangle Area:\", rectangle.area()) "
   ]
  },
  {
   "cell_type": "code",
   "execution_count": 11,
   "id": "981f1b4e-31af-43b1-90db-f96e63b44835",
   "metadata": {},
   "outputs": [
    {
     "name": "stdout",
     "output_type": "stream",
     "text": [
      "Area: 78.5\n",
      "Area: 24\n"
     ]
    }
   ],
   "source": [
    "# 9. Demonstrate polymorphism by creating a function that can work with different shape objects to calculate and print their areas.\n",
    "def print_area(shape):\n",
    "    print(f\"Area: {shape.area()}\")\n",
    "\n",
    "# Example usage\n",
    "circle = Circle(5)\n",
    "rectangle = Rectangle(4, 6)\n",
    "print_area(circle)    \n",
    "print_area(rectangle) \n"
   ]
  },
  {
   "cell_type": "code",
   "execution_count": 12,
   "id": "81c303b7-4b77-443d-a76f-0a23421d0313",
   "metadata": {},
   "outputs": [
    {
     "name": "stdout",
     "output_type": "stream",
     "text": [
      "Balance: 1300\n"
     ]
    }
   ],
   "source": [
    "#10. Implement encapsulation in a `BankAccount` class with private attributes for `balance` and `account_number`. Include methods for deposit, withdrawal, and balance inquiry. \n",
    "class BankAccount:\n",
    "    def __init__(self, account_number, balance=0):\n",
    "        self.__account_number = account_number\n",
    "        self.__balance = balance\n",
    "\n",
    "    def deposit(self, amount):\n",
    "        self.__balance += amount\n",
    "\n",
    "    def withdraw(self, amount):\n",
    "        if amount <= self.__balance:\n",
    "            self.__balance -= amount\n",
    "        else:\n",
    "            print(\"Insufficient balance\")\n",
    "\n",
    "    def get_balance(self):\n",
    "        return self.__balance\n",
    "\n",
    "# Example usage\n",
    "account = BankAccount(\"123456\", 1000)\n",
    "account.deposit(500)\n",
    "account.withdraw(200)\n",
    "print(\"Balance:\", account.get_balance()) \n"
   ]
  },
  {
   "cell_type": "code",
   "execution_count": 13,
   "id": "bf8bbcad-74c6-41b1-886d-5a8e7f3d4501",
   "metadata": {},
   "outputs": [
    {
     "name": "stdout",
     "output_type": "stream",
     "text": [
      "Point(1, 2)\n",
      "Point(4, 6)\n"
     ]
    }
   ],
   "source": [
    "#11. Write a class that overrides the `__str__` and `__add__` magic methods. What will these methods allow you to do? \n",
    "class Point:\n",
    "    def __init__(self, x, y):\n",
    "        self.x = x\n",
    "        self.y = y\n",
    "\n",
    "    def __str__(self):\n",
    "        return f\"Point({self.x}, {self.y})\"\n",
    "\n",
    "    def __add__(self, other):\n",
    "        return Point(self.x + other.x, self.y + other.y)\n",
    "\n",
    "# Example usage\n",
    "p1 = Point(1, 2)\n",
    "p2 = Point(3, 4)\n",
    "print(p1)          \n",
    "print(p1 + p2)     \n"
   ]
  },
  {
   "cell_type": "code",
   "execution_count": 14,
   "id": "16e52be5-77e1-4007-a9cb-cfedcb94173d",
   "metadata": {},
   "outputs": [
    {
     "name": "stdout",
     "output_type": "stream",
     "text": [
      "Execution time: 2.000629425048828 seconds\n"
     ]
    }
   ],
   "source": [
    "#12. Create a decorator that measures and prints the execution time of a function. \n",
    "import time\n",
    "\n",
    "def timer(func):\n",
    "    def wrapper(*args, **kwargs):\n",
    "        start = time.time()\n",
    "        result = func(*args, **kwargs)\n",
    "        end = time.time()\n",
    "        print(f\"Execution time: {end - start} seconds\")\n",
    "        return result\n",
    "    return wrapper\n",
    "\n",
    "@timer\n",
    "def example_function():\n",
    "    time.sleep(2)\n",
    "\n",
    "# Example usage\n",
    "example_function()\n"
   ]
  },
  {
   "cell_type": "code",
   "execution_count": 15,
   "id": "e39ac22a-a54f-4da4-8564-b0758d1b54bf",
   "metadata": {},
   "outputs": [
    {
     "name": "stdout",
     "output_type": "stream",
     "text": [
      "Instance count: 2\n"
     ]
    }
   ],
   "source": [
    "#14. Write a class method that keeps track of the number of instances created from a class.\n",
    "class MyClass:\n",
    "    instance_count = 0\n",
    "\n",
    "    def __init__(self):\n",
    "        MyClass.instance_count += 1\n",
    "\n",
    "    @classmethod\n",
    "    def get_instance_count(cls):\n",
    "        return cls.instance_count\n",
    "\n",
    "# Example usage\n",
    "obj1 = MyClass()\n",
    "obj2 = MyClass()\n",
    "print(\"Instance count:\", MyClass.get_instance_count())\n"
   ]
  },
  {
   "cell_type": "code",
   "execution_count": 16,
   "id": "63a9a329-adf3-4a29-8e5b-791426946433",
   "metadata": {},
   "outputs": [
    {
     "name": "stdout",
     "output_type": "stream",
     "text": [
      "True\n",
      "False\n"
     ]
    }
   ],
   "source": [
    "# 15. Implement a static method in a class that checks if a given year is a leap\n",
    "class DateUtils:\n",
    "    @staticmethod\n",
    "    def is_leap_year(year):\n",
    "        return year % 4 == 0 and (year % 100 != 0 or year % 400 == 0)\n",
    "\n",
    "# Example usage\n",
    "print(DateUtils.is_leap_year(2020))  \n",
    "print(DateUtils.is_leap_year(2021))\n"
   ]
  },
  {
   "cell_type": "code",
   "execution_count": null,
   "id": "f9ca049d-186c-428b-bff5-c8a3cbf3bad8",
   "metadata": {},
   "outputs": [],
   "source": []
  }
 ],
 "metadata": {
  "kernelspec": {
   "display_name": "Python 3 (ipykernel)",
   "language": "python",
   "name": "python3"
  },
  "language_info": {
   "codemirror_mode": {
    "name": "ipython",
    "version": 3
   },
   "file_extension": ".py",
   "mimetype": "text/x-python",
   "name": "python",
   "nbconvert_exporter": "python",
   "pygments_lexer": "ipython3",
   "version": "3.12.4"
  },
  "widgets": {
   "application/vnd.jupyter.widget-state+json": {
    "state": {},
    "version_major": 2,
    "version_minor": 0
   }
  }
 },
 "nbformat": 4,
 "nbformat_minor": 5
}
